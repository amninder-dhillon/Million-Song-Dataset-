{
 "cells": [
  {
   "cell_type": "code",
   "execution_count": 1,
   "metadata": {
    "collapsed": true
   },
   "outputs": [],
   "source": [
    "import os\n",
    "import sys\n",
    "import glob\n",
    "import sqlite3\n",
    "import numpy as np\n",
    "import pandas as pd\n",
    "import seaborn as sns\n",
    "import matplotlib.pyplot as plt\n",
    "\n",
    "%matplotlib inline"
   ]
  },
  {
   "cell_type": "code",
   "execution_count": 2,
   "metadata": {
    "collapsed": true
   },
   "outputs": [],
   "source": [
    "def get_headers(df):\n",
    "    return list(df.columns.values)\n",
    "\n",
    "def HDFS_to_CSV(path,output_file,return_df=False):\n",
    "    base_dir = path\n",
    "    ext = \".H5\"\n",
    "    df = pd.DataFrame()\n",
    "    first_run = True\n",
    "    for root,dirs,files in os.walk(base_dir):\n",
    "        files = glob.glob(os.path.join(root,\"*\"+ext))\n",
    "        for f in files:\n",
    "            store = pd.HDFStore(f)\n",
    "            song_analysis = pd.read_hdf(store,'/analysis/songs')\n",
    "            metadata = pd.read_hdf(store,'/metadata/songs')\n",
    "            musicbrainz = pd.read_hdf(store,'musicbrainz/songs')\n",
    "            frames = [song_analysis,metadata,musicbrainz]\n",
    "            song_df = pd.concat(frames,axis=1)\n",
    "            \n",
    "            if return_df:\n",
    "                df.append(song_df)\n",
    "\n",
    "            if first_run:\n",
    "                song_df.to_csv(output_file)\n",
    "                first_run = False\n",
    "            else:\n",
    "                with open(output_file, 'a') as fl:\n",
    "                    song_df.to_csv(fl, header=False)\n",
    "            store.close()\n",
    "    if return_df:\n",
    "        return df\n",
    "\n",
    "def get_songs_df_from_csv(filename):\n",
    "    return pd.read_csv(filename,index_col=0)   \n",
    "\n",
    "def clean(df):\n",
    "    df = df.fillna(0)\n",
    "    #Drop rows with year = 0\n",
    "    df = df.drop(df[df.year == 0].index)\n",
    "    #Drop rows with song hotness = 0\n",
    "    df = df.drop(df[df.song_hotttnesss==0].index)\n",
    "\n",
    "    indices_to_keep = ~df.isin([np.nan, np.inf, -np.inf]).any(1)\n",
    "    return df[indices_to_keep]\n",
    "\n",
    "def drop_specific_cols(df):\n",
    "    cols = ['analysis_sample_rate','danceability','energy','genre','artist_7digitalid','audio_md5','analyzer_version','artist_latitude','artist_location','artist_longitude','artist_playmeid','track_7digitalid','release_7digitalid','key_confidence','mode_confidence','time_signature_confidence']\n",
    "    df = df.drop(cols,axis=1)\n",
    "    idx_cols = 'idx_'\n",
    "    return df[df.columns.drop(list(df.filter(regex=idx_cols)))]"
   ]
  },
  {
   "cell_type": "code",
   "execution_count": 3,
   "metadata": {
    "scrolled": true
   },
   "outputs": [
    {
     "name": "stdout",
     "output_type": "stream",
     "text": [
      "Number of Rows: 1000000\n",
      "Number of Columns: 53\n"
     ]
    },
    {
     "data": {
      "text/html": [
       "<div>\n",
       "<style>\n",
       "    .dataframe thead tr:only-child th {\n",
       "        text-align: right;\n",
       "    }\n",
       "\n",
       "    .dataframe thead th {\n",
       "        text-align: left;\n",
       "    }\n",
       "\n",
       "    .dataframe tbody tr th {\n",
       "        vertical-align: top;\n",
       "    }\n",
       "</style>\n",
       "<table border=\"1\" class=\"dataframe\">\n",
       "  <thead>\n",
       "    <tr style=\"text-align: right;\">\n",
       "      <th></th>\n",
       "      <th>analysis_sample_rate</th>\n",
       "      <th>audio_md5</th>\n",
       "      <th>danceability</th>\n",
       "      <th>duration</th>\n",
       "      <th>end_of_fade_in</th>\n",
       "      <th>energy</th>\n",
       "      <th>idx_bars_confidence</th>\n",
       "      <th>idx_bars_start</th>\n",
       "      <th>idx_beats_confidence</th>\n",
       "      <th>idx_beats_start</th>\n",
       "      <th>...</th>\n",
       "      <th>idx_artist_terms</th>\n",
       "      <th>idx_similar_artists</th>\n",
       "      <th>release</th>\n",
       "      <th>release_7digitalid</th>\n",
       "      <th>song_hotttnesss</th>\n",
       "      <th>song_id</th>\n",
       "      <th>title</th>\n",
       "      <th>track_7digitalid</th>\n",
       "      <th>idx_artist_mbtags</th>\n",
       "      <th>year</th>\n",
       "    </tr>\n",
       "  </thead>\n",
       "  <tbody>\n",
       "    <tr>\n",
       "      <th>0</th>\n",
       "      <td>22050</td>\n",
       "      <td>aee9820911781c734e7694c5432990ca</td>\n",
       "      <td>0.0</td>\n",
       "      <td>252.05506</td>\n",
       "      <td>2.049</td>\n",
       "      <td>0.0</td>\n",
       "      <td>0</td>\n",
       "      <td>0</td>\n",
       "      <td>0</td>\n",
       "      <td>0</td>\n",
       "      <td>...</td>\n",
       "      <td>0</td>\n",
       "      <td>0</td>\n",
       "      <td>Monster Ballads X-Mas</td>\n",
       "      <td>633681</td>\n",
       "      <td>0.542899</td>\n",
       "      <td>SOQMMHC12AB0180CB8</td>\n",
       "      <td>Silent Night</td>\n",
       "      <td>7032331</td>\n",
       "      <td>0</td>\n",
       "      <td>2003</td>\n",
       "    </tr>\n",
       "    <tr>\n",
       "      <th>1</th>\n",
       "      <td>22050</td>\n",
       "      <td>ed222d07c83bac7689d52753610a513a</td>\n",
       "      <td>0.0</td>\n",
       "      <td>156.55138</td>\n",
       "      <td>0.258</td>\n",
       "      <td>0.0</td>\n",
       "      <td>0</td>\n",
       "      <td>0</td>\n",
       "      <td>0</td>\n",
       "      <td>0</td>\n",
       "      <td>...</td>\n",
       "      <td>0</td>\n",
       "      <td>0</td>\n",
       "      <td>Karkuteillä</td>\n",
       "      <td>145266</td>\n",
       "      <td>0.299877</td>\n",
       "      <td>SOVFVAK12A8C1350D9</td>\n",
       "      <td>Tanssi vaan</td>\n",
       "      <td>1514808</td>\n",
       "      <td>0</td>\n",
       "      <td>1995</td>\n",
       "    </tr>\n",
       "    <tr>\n",
       "      <th>2</th>\n",
       "      <td>22050</td>\n",
       "      <td>96c7104889a128fef84fa469d60e380c</td>\n",
       "      <td>0.0</td>\n",
       "      <td>138.97098</td>\n",
       "      <td>0.000</td>\n",
       "      <td>0.0</td>\n",
       "      <td>0</td>\n",
       "      <td>0</td>\n",
       "      <td>0</td>\n",
       "      <td>0</td>\n",
       "      <td>...</td>\n",
       "      <td>0</td>\n",
       "      <td>0</td>\n",
       "      <td>Butter</td>\n",
       "      <td>625706</td>\n",
       "      <td>0.617871</td>\n",
       "      <td>SOGTUKN12AB017F4F1</td>\n",
       "      <td>No One Could Ever</td>\n",
       "      <td>6945353</td>\n",
       "      <td>0</td>\n",
       "      <td>2006</td>\n",
       "    </tr>\n",
       "    <tr>\n",
       "      <th>3</th>\n",
       "      <td>22050</td>\n",
       "      <td>0f7da84b6b583e3846c7e022fb3a92a2</td>\n",
       "      <td>0.0</td>\n",
       "      <td>145.05751</td>\n",
       "      <td>0.000</td>\n",
       "      <td>0.0</td>\n",
       "      <td>0</td>\n",
       "      <td>0</td>\n",
       "      <td>0</td>\n",
       "      <td>0</td>\n",
       "      <td>...</td>\n",
       "      <td>0</td>\n",
       "      <td>0</td>\n",
       "      <td>De Culo</td>\n",
       "      <td>199368</td>\n",
       "      <td>NaN</td>\n",
       "      <td>SOBNYVR12A8C13558C</td>\n",
       "      <td>Si Vos Querés</td>\n",
       "      <td>2168257</td>\n",
       "      <td>0</td>\n",
       "      <td>2003</td>\n",
       "    </tr>\n",
       "    <tr>\n",
       "      <th>4</th>\n",
       "      <td>22050</td>\n",
       "      <td>228dd6392ad8001b0281f533f34c72fd</td>\n",
       "      <td>0.0</td>\n",
       "      <td>514.29832</td>\n",
       "      <td>0.000</td>\n",
       "      <td>0.0</td>\n",
       "      <td>0</td>\n",
       "      <td>0</td>\n",
       "      <td>0</td>\n",
       "      <td>0</td>\n",
       "      <td>...</td>\n",
       "      <td>0</td>\n",
       "      <td>0</td>\n",
       "      <td>Rene Ablaze Presents Winter Sessions</td>\n",
       "      <td>209038</td>\n",
       "      <td>NaN</td>\n",
       "      <td>SOHSBXH12A8C13B0DF</td>\n",
       "      <td>Tangle Of Aspens</td>\n",
       "      <td>2264873</td>\n",
       "      <td>0</td>\n",
       "      <td>0</td>\n",
       "    </tr>\n",
       "  </tbody>\n",
       "</table>\n",
       "<p>5 rows × 53 columns</p>\n",
       "</div>"
      ],
      "text/plain": [
       "   analysis_sample_rate                         audio_md5  danceability  \\\n",
       "0                 22050  aee9820911781c734e7694c5432990ca           0.0   \n",
       "1                 22050  ed222d07c83bac7689d52753610a513a           0.0   \n",
       "2                 22050  96c7104889a128fef84fa469d60e380c           0.0   \n",
       "3                 22050  0f7da84b6b583e3846c7e022fb3a92a2           0.0   \n",
       "4                 22050  228dd6392ad8001b0281f533f34c72fd           0.0   \n",
       "\n",
       "    duration  end_of_fade_in  energy  idx_bars_confidence  idx_bars_start  \\\n",
       "0  252.05506           2.049     0.0                    0               0   \n",
       "1  156.55138           0.258     0.0                    0               0   \n",
       "2  138.97098           0.000     0.0                    0               0   \n",
       "3  145.05751           0.000     0.0                    0               0   \n",
       "4  514.29832           0.000     0.0                    0               0   \n",
       "\n",
       "   idx_beats_confidence  idx_beats_start  ...   idx_artist_terms  \\\n",
       "0                     0                0  ...                  0   \n",
       "1                     0                0  ...                  0   \n",
       "2                     0                0  ...                  0   \n",
       "3                     0                0  ...                  0   \n",
       "4                     0                0  ...                  0   \n",
       "\n",
       "   idx_similar_artists                               release  \\\n",
       "0                    0                 Monster Ballads X-Mas   \n",
       "1                    0                           Karkuteillä   \n",
       "2                    0                                Butter   \n",
       "3                    0                               De Culo   \n",
       "4                    0  Rene Ablaze Presents Winter Sessions   \n",
       "\n",
       "   release_7digitalid  song_hotttnesss             song_id              title  \\\n",
       "0              633681         0.542899  SOQMMHC12AB0180CB8       Silent Night   \n",
       "1              145266         0.299877  SOVFVAK12A8C1350D9        Tanssi vaan   \n",
       "2              625706         0.617871  SOGTUKN12AB017F4F1  No One Could Ever   \n",
       "3              199368              NaN  SOBNYVR12A8C13558C      Si Vos Querés   \n",
       "4              209038              NaN  SOHSBXH12A8C13B0DF   Tangle Of Aspens   \n",
       "\n",
       "   track_7digitalid  idx_artist_mbtags  year  \n",
       "0           7032331                  0  2003  \n",
       "1           1514808                  0  1995  \n",
       "2           6945353                  0  2006  \n",
       "3           2168257                  0  2003  \n",
       "4           2264873                  0     0  \n",
       "\n",
       "[5 rows x 53 columns]"
      ]
     },
     "execution_count": 3,
     "metadata": {},
     "output_type": "execute_result"
    }
   ],
   "source": [
    "#GETTING DATA\n",
    "songs_df = get_songs_df_from_csv('../assets/msd_summary.csv')\n",
    "\n",
    "#During the csv making process, I was merging different dfs into one df and df index info was lost. Let's reset the indices\n",
    "songs_df.reset_index(drop=True,inplace=True)\n",
    "\n",
    "print \"Number of Rows: %d\"%len(songs_df)\n",
    "print \"Number of Columns: %d\"%len(songs_df.columns)\n",
    "songs_df.head()"
   ]
  },
  {
   "cell_type": "code",
   "execution_count": 6,
   "metadata": {},
   "outputs": [
    {
     "name": "stdout",
     "output_type": "stream",
     "text": [
      "Number of Columns after data cleansing: 19\n",
      "Number of rows after cleansing: 306298\n"
     ]
    },
    {
     "data": {
      "text/html": [
       "<div>\n",
       "<style>\n",
       "    .dataframe thead tr:only-child th {\n",
       "        text-align: right;\n",
       "    }\n",
       "\n",
       "    .dataframe thead th {\n",
       "        text-align: left;\n",
       "    }\n",
       "\n",
       "    .dataframe tbody tr th {\n",
       "        vertical-align: top;\n",
       "    }\n",
       "</style>\n",
       "<table border=\"1\" class=\"dataframe\">\n",
       "  <thead>\n",
       "    <tr style=\"text-align: right;\">\n",
       "      <th></th>\n",
       "      <th>duration</th>\n",
       "      <th>end_of_fade_in</th>\n",
       "      <th>key</th>\n",
       "      <th>loudness</th>\n",
       "      <th>mode</th>\n",
       "      <th>start_of_fade_out</th>\n",
       "      <th>tempo</th>\n",
       "      <th>time_signature</th>\n",
       "      <th>track_id</th>\n",
       "      <th>artist_familiarity</th>\n",
       "      <th>artist_hotttnesss</th>\n",
       "      <th>artist_id</th>\n",
       "      <th>artist_mbid</th>\n",
       "      <th>artist_name</th>\n",
       "      <th>release</th>\n",
       "      <th>song_hotttnesss</th>\n",
       "      <th>song_id</th>\n",
       "      <th>title</th>\n",
       "      <th>year</th>\n",
       "    </tr>\n",
       "  </thead>\n",
       "  <tbody>\n",
       "    <tr>\n",
       "      <th>0</th>\n",
       "      <td>252.05506</td>\n",
       "      <td>2.049</td>\n",
       "      <td>10</td>\n",
       "      <td>-4.829</td>\n",
       "      <td>0</td>\n",
       "      <td>236.635</td>\n",
       "      <td>87.002</td>\n",
       "      <td>4</td>\n",
       "      <td>TRMMMYQ128F932D901</td>\n",
       "      <td>0.649822</td>\n",
       "      <td>0.394032</td>\n",
       "      <td>ARYZTJS1187B98C555</td>\n",
       "      <td>357ff05d-848a-44cf-b608-cb34b5701ae5</td>\n",
       "      <td>Faster Pussy cat</td>\n",
       "      <td>Monster Ballads X-Mas</td>\n",
       "      <td>0.542899</td>\n",
       "      <td>SOQMMHC12AB0180CB8</td>\n",
       "      <td>Silent Night</td>\n",
       "      <td>2003</td>\n",
       "    </tr>\n",
       "    <tr>\n",
       "      <th>1</th>\n",
       "      <td>156.55138</td>\n",
       "      <td>0.258</td>\n",
       "      <td>9</td>\n",
       "      <td>-10.555</td>\n",
       "      <td>1</td>\n",
       "      <td>148.660</td>\n",
       "      <td>150.778</td>\n",
       "      <td>1</td>\n",
       "      <td>TRMMMKD128F425225D</td>\n",
       "      <td>0.439604</td>\n",
       "      <td>0.356992</td>\n",
       "      <td>ARMVN3U1187FB3A1EB</td>\n",
       "      <td>8d7ef530-a6fd-4f8f-b2e2-74aec765e0f9</td>\n",
       "      <td>Karkkiautomaatti</td>\n",
       "      <td>Karkuteillä</td>\n",
       "      <td>0.299877</td>\n",
       "      <td>SOVFVAK12A8C1350D9</td>\n",
       "      <td>Tanssi vaan</td>\n",
       "      <td>1995</td>\n",
       "    </tr>\n",
       "    <tr>\n",
       "      <th>2</th>\n",
       "      <td>138.97098</td>\n",
       "      <td>0.000</td>\n",
       "      <td>7</td>\n",
       "      <td>-2.060</td>\n",
       "      <td>1</td>\n",
       "      <td>138.971</td>\n",
       "      <td>177.768</td>\n",
       "      <td>4</td>\n",
       "      <td>TRMMMRX128F93187D9</td>\n",
       "      <td>0.643681</td>\n",
       "      <td>0.437504</td>\n",
       "      <td>ARGEKB01187FB50750</td>\n",
       "      <td>3d403d44-36ce-465c-ad43-ae877e65adc4</td>\n",
       "      <td>Hudson Mohawke</td>\n",
       "      <td>Butter</td>\n",
       "      <td>0.617871</td>\n",
       "      <td>SOGTUKN12AB017F4F1</td>\n",
       "      <td>No One Could Ever</td>\n",
       "      <td>2006</td>\n",
       "    </tr>\n",
       "    <tr>\n",
       "      <th>13</th>\n",
       "      <td>318.45832</td>\n",
       "      <td>0.502</td>\n",
       "      <td>10</td>\n",
       "      <td>-10.670</td>\n",
       "      <td>1</td>\n",
       "      <td>306.265</td>\n",
       "      <td>67.567</td>\n",
       "      <td>3</td>\n",
       "      <td>TRMMMBW128F4260CAE</td>\n",
       "      <td>0.621826</td>\n",
       "      <td>0.406985</td>\n",
       "      <td>AREMPER1187B9AEB42</td>\n",
       "      <td>14efbb08-c3d8-404c-9ead-ad71fa586ee6</td>\n",
       "      <td>Tiger Lou</td>\n",
       "      <td>The Loyal</td>\n",
       "      <td>0.463490</td>\n",
       "      <td>SOMPVQB12A8C1379BB</td>\n",
       "      <td>Pilots</td>\n",
       "      <td>2005</td>\n",
       "    </tr>\n",
       "    <tr>\n",
       "      <th>15</th>\n",
       "      <td>262.26893</td>\n",
       "      <td>0.194</td>\n",
       "      <td>11</td>\n",
       "      <td>-3.925</td>\n",
       "      <td>1</td>\n",
       "      <td>259.419</td>\n",
       "      <td>122.332</td>\n",
       "      <td>4</td>\n",
       "      <td>TRMMMKI128F931D80D</td>\n",
       "      <td>0.529819</td>\n",
       "      <td>0.410229</td>\n",
       "      <td>ARSB5591187B99A848</td>\n",
       "      <td>fba3e876-68f1-4a1f-99d9-c604480202ba</td>\n",
       "      <td>Lena Philipsson</td>\n",
       "      <td>Lena 20 År</td>\n",
       "      <td>0.212045</td>\n",
       "      <td>SOSDCFG12AB0184647</td>\n",
       "      <td>006</td>\n",
       "      <td>1998</td>\n",
       "    </tr>\n",
       "  </tbody>\n",
       "</table>\n",
       "</div>"
      ],
      "text/plain": [
       "     duration  end_of_fade_in  key  loudness  mode  start_of_fade_out  \\\n",
       "0   252.05506           2.049   10    -4.829     0            236.635   \n",
       "1   156.55138           0.258    9   -10.555     1            148.660   \n",
       "2   138.97098           0.000    7    -2.060     1            138.971   \n",
       "13  318.45832           0.502   10   -10.670     1            306.265   \n",
       "15  262.26893           0.194   11    -3.925     1            259.419   \n",
       "\n",
       "      tempo  time_signature            track_id  artist_familiarity  \\\n",
       "0    87.002               4  TRMMMYQ128F932D901            0.649822   \n",
       "1   150.778               1  TRMMMKD128F425225D            0.439604   \n",
       "2   177.768               4  TRMMMRX128F93187D9            0.643681   \n",
       "13   67.567               3  TRMMMBW128F4260CAE            0.621826   \n",
       "15  122.332               4  TRMMMKI128F931D80D            0.529819   \n",
       "\n",
       "    artist_hotttnesss           artist_id  \\\n",
       "0            0.394032  ARYZTJS1187B98C555   \n",
       "1            0.356992  ARMVN3U1187FB3A1EB   \n",
       "2            0.437504  ARGEKB01187FB50750   \n",
       "13           0.406985  AREMPER1187B9AEB42   \n",
       "15           0.410229  ARSB5591187B99A848   \n",
       "\n",
       "                             artist_mbid       artist_name  \\\n",
       "0   357ff05d-848a-44cf-b608-cb34b5701ae5  Faster Pussy cat   \n",
       "1   8d7ef530-a6fd-4f8f-b2e2-74aec765e0f9  Karkkiautomaatti   \n",
       "2   3d403d44-36ce-465c-ad43-ae877e65adc4    Hudson Mohawke   \n",
       "13  14efbb08-c3d8-404c-9ead-ad71fa586ee6         Tiger Lou   \n",
       "15  fba3e876-68f1-4a1f-99d9-c604480202ba   Lena Philipsson   \n",
       "\n",
       "                  release  song_hotttnesss             song_id  \\\n",
       "0   Monster Ballads X-Mas         0.542899  SOQMMHC12AB0180CB8   \n",
       "1             Karkuteillä         0.299877  SOVFVAK12A8C1350D9   \n",
       "2                  Butter         0.617871  SOGTUKN12AB017F4F1   \n",
       "13              The Loyal         0.463490  SOMPVQB12A8C1379BB   \n",
       "15             Lena 20 År         0.212045  SOSDCFG12AB0184647   \n",
       "\n",
       "                title  year  \n",
       "0        Silent Night  2003  \n",
       "1         Tanssi vaan  1995  \n",
       "2   No One Could Ever  2006  \n",
       "13             Pilots  2005  \n",
       "15                006  1998  "
      ]
     },
     "execution_count": 6,
     "metadata": {},
     "output_type": "execute_result"
    }
   ],
   "source": [
    "#DATA CLEANING\n",
    "df = clean(songs_df)\n",
    "df = drop_specific_cols(df)\n",
    "print \"Number of Columns after data cleansing: %d\"%len(df.columns)\n",
    "print \"Number of rows after cleansing: %d\"%df.year.count()\n",
    "df.head()"
   ]
  },
  {
   "cell_type": "code",
   "execution_count": 7,
   "metadata": {},
   "outputs": [
    {
     "data": {
      "text/plain": [
       "<matplotlib.axes._subplots.AxesSubplot at 0x45a53630>"
      ]
     },
     "execution_count": 7,
     "metadata": {},
     "output_type": "execute_result"
    },
    {
     "data": {
      "image/png": "[encoded data removed]",
      "text/plain": [
       "<matplotlib.figure.Figure at 0x45a53438>"
      ]
     },
     "metadata": {},
     "output_type": "display_data"
    }
   ],
   "source": [
    "#Data Exploration\n",
    "corr = df.corr()\n",
    "plt.figure(figsize = (7,7))\n",
    "sns.heatmap(corr)"
   ]
  },
  {
   "cell_type": "code",
   "execution_count": 8,
   "metadata": {},
   "outputs": [
    {
     "data": {
      "text/html": [
       "<div>\n",
       "<style>\n",
       "    .dataframe thead tr:only-child th {\n",
       "        text-align: right;\n",
       "    }\n",
       "\n",
       "    .dataframe thead th {\n",
       "        text-align: left;\n",
       "    }\n",
       "\n",
       "    .dataframe tbody tr th {\n",
       "        vertical-align: top;\n",
       "    }\n",
       "</style>\n",
       "<table border=\"1\" class=\"dataframe\">\n",
       "  <thead>\n",
       "    <tr style=\"text-align: right;\">\n",
       "      <th></th>\n",
       "      <th>duration</th>\n",
       "      <th>end_of_fade_in</th>\n",
       "      <th>key</th>\n",
       "      <th>loudness</th>\n",
       "      <th>mode</th>\n",
       "      <th>start_of_fade_out</th>\n",
       "      <th>tempo</th>\n",
       "      <th>time_signature</th>\n",
       "      <th>artist_familiarity</th>\n",
       "      <th>artist_hotttnesss</th>\n",
       "      <th>song_hotttnesss</th>\n",
       "      <th>year</th>\n",
       "    </tr>\n",
       "  </thead>\n",
       "  <tbody>\n",
       "    <tr>\n",
       "      <th>count</th>\n",
       "      <td>306298.000000</td>\n",
       "      <td>306298.000000</td>\n",
       "      <td>306298.000000</td>\n",
       "      <td>306298.000000</td>\n",
       "      <td>306298.000000</td>\n",
       "      <td>306298.000000</td>\n",
       "      <td>306298.000000</td>\n",
       "      <td>306298.000000</td>\n",
       "      <td>306298.000000</td>\n",
       "      <td>306298.000000</td>\n",
       "      <td>306298.000000</td>\n",
       "      <td>306298.000000</td>\n",
       "    </tr>\n",
       "    <tr>\n",
       "      <th>mean</th>\n",
       "      <td>245.989623</td>\n",
       "      <td>0.876206</td>\n",
       "      <td>5.313675</td>\n",
       "      <td>-9.289077</td>\n",
       "      <td>0.659779</td>\n",
       "      <td>236.675818</td>\n",
       "      <td>125.457849</td>\n",
       "      <td>3.636984</td>\n",
       "      <td>0.618607</td>\n",
       "      <td>0.430780</td>\n",
       "      <td>0.487166</td>\n",
       "      <td>1999.742339</td>\n",
       "    </tr>\n",
       "    <tr>\n",
       "      <th>std</th>\n",
       "      <td>110.965065</td>\n",
       "      <td>2.833747</td>\n",
       "      <td>3.594272</td>\n",
       "      <td>4.789644</td>\n",
       "      <td>0.473784</td>\n",
       "      <td>108.672545</td>\n",
       "      <td>34.916439</td>\n",
       "      <td>1.180530</td>\n",
       "      <td>0.114854</td>\n",
       "      <td>0.095562</td>\n",
       "      <td>0.156768</td>\n",
       "      <td>9.722458</td>\n",
       "    </tr>\n",
       "    <tr>\n",
       "      <th>min</th>\n",
       "      <td>0.678730</td>\n",
       "      <td>0.000000</td>\n",
       "      <td>0.000000</td>\n",
       "      <td>-52.559000</td>\n",
       "      <td>0.000000</td>\n",
       "      <td>0.679000</td>\n",
       "      <td>0.000000</td>\n",
       "      <td>0.000000</td>\n",
       "      <td>0.000000</td>\n",
       "      <td>0.000000</td>\n",
       "      <td>0.187701</td>\n",
       "      <td>1922.000000</td>\n",
       "    </tr>\n",
       "    <tr>\n",
       "      <th>25%</th>\n",
       "      <td>185.991380</td>\n",
       "      <td>0.000000</td>\n",
       "      <td>2.000000</td>\n",
       "      <td>-11.636000</td>\n",
       "      <td>0.000000</td>\n",
       "      <td>177.946000</td>\n",
       "      <td>99.262250</td>\n",
       "      <td>4.000000</td>\n",
       "      <td>0.546981</td>\n",
       "      <td>0.376689</td>\n",
       "      <td>0.372530</td>\n",
       "      <td>1996.000000</td>\n",
       "    </tr>\n",
       "    <tr>\n",
       "      <th>50%</th>\n",
       "      <td>231.078730</td>\n",
       "      <td>0.194000</td>\n",
       "      <td>5.000000</td>\n",
       "      <td>-8.198000</td>\n",
       "      <td>1.000000</td>\n",
       "      <td>221.553000</td>\n",
       "      <td>122.631000</td>\n",
       "      <td>4.000000</td>\n",
       "      <td>0.614654</td>\n",
       "      <td>0.421589</td>\n",
       "      <td>0.485530</td>\n",
       "      <td>2003.000000</td>\n",
       "    </tr>\n",
       "    <tr>\n",
       "      <th>75%</th>\n",
       "      <td>284.551380</td>\n",
       "      <td>0.428000</td>\n",
       "      <td>9.000000</td>\n",
       "      <td>-5.852000</td>\n",
       "      <td>1.000000</td>\n",
       "      <td>273.874000</td>\n",
       "      <td>146.489000</td>\n",
       "      <td>4.000000</td>\n",
       "      <td>0.691134</td>\n",
       "      <td>0.480575</td>\n",
       "      <td>0.597641</td>\n",
       "      <td>2007.000000</td>\n",
       "    </tr>\n",
       "    <tr>\n",
       "      <th>max</th>\n",
       "      <td>3007.738320</td>\n",
       "      <td>358.214000</td>\n",
       "      <td>11.000000</td>\n",
       "      <td>3.966000</td>\n",
       "      <td>1.000000</td>\n",
       "      <td>3007.738000</td>\n",
       "      <td>280.955000</td>\n",
       "      <td>7.000000</td>\n",
       "      <td>1.000000</td>\n",
       "      <td>1.082503</td>\n",
       "      <td>1.000000</td>\n",
       "      <td>2011.000000</td>\n",
       "    </tr>\n",
       "  </tbody>\n",
       "</table>\n",
       "</div>"
      ],
      "text/plain": [
       "            duration  end_of_fade_in            key       loudness  \\\n",
       "count  306298.000000   306298.000000  306298.000000  306298.000000   \n",
       "mean      245.989623        0.876206       5.313675      -9.289077   \n",
       "std       110.965065        2.833747       3.594272       4.789644   \n",
       "min         0.678730        0.000000       0.000000     -52.559000   \n",
       "25%       185.991380        0.000000       2.000000     -11.636000   \n",
       "50%       231.078730        0.194000       5.000000      -8.198000   \n",
       "75%       284.551380        0.428000       9.000000      -5.852000   \n",
       "max      3007.738320      358.214000      11.000000       3.966000   \n",
       "\n",
       "                mode  start_of_fade_out          tempo  time_signature  \\\n",
       "count  306298.000000      306298.000000  306298.000000   306298.000000   \n",
       "mean        0.659779         236.675818     125.457849        3.636984   \n",
       "std         0.473784         108.672545      34.916439        1.180530   \n",
       "min         0.000000           0.679000       0.000000        0.000000   \n",
       "25%         0.000000         177.946000      99.262250        4.000000   \n",
       "50%         1.000000         221.553000     122.631000        4.000000   \n",
       "75%         1.000000         273.874000     146.489000        4.000000   \n",
       "max         1.000000        3007.738000     280.955000        7.000000   \n",
       "\n",
       "       artist_familiarity  artist_hotttnesss  song_hotttnesss           year  \n",
       "count       306298.000000      306298.000000    306298.000000  306298.000000  \n",
       "mean             0.618607           0.430780         0.487166    1999.742339  \n",
       "std              0.114854           0.095562         0.156768       9.722458  \n",
       "min              0.000000           0.000000         0.187701    1922.000000  \n",
       "25%              0.546981           0.376689         0.372530    1996.000000  \n",
       "50%              0.614654           0.421589         0.485530    2003.000000  \n",
       "75%              0.691134           0.480575         0.597641    2007.000000  \n",
       "max              1.000000           1.082503         1.000000    2011.000000  "
      ]
     },
     "execution_count": 8,
     "metadata": {},
     "output_type": "execute_result"
    }
   ],
   "source": [
    "df.describe()"
   ]
  },
  {
   "cell_type": "markdown",
   "metadata": {},
   "source": []
  },
  {
   "cell_type": "code",
   "execution_count": 9,
   "metadata": {},
   "outputs": [
    {
     "data": {
      "text/plain": [
       "<matplotlib.axes._subplots.AxesSubplot at 0x44b8cef0>"
      ]
     },
     "execution_count": 9,
     "metadata": {},
     "output_type": "execute_result"
    },
    {
     "data": {
      "image/png": "[encoded data removed]",
      "text/plain": [
       "<matplotlib.figure.Figure at 0x458ec160>"
      ]
     },
     "metadata": {},
     "output_type": "display_data"
    },
    {
     "data": {
      "image/png": "[encoded data removed]",
      "text/plain": [
       "<matplotlib.figure.Figure at 0x45996f98>"
      ]
     },
     "metadata": {},
     "output_type": "display_data"
    },
    {
     "data": {
      "image/png": "[encoded data removed]",
      "text/plain": [
       "<matplotlib.figure.Figure at 0x44ba4208>"
      ]
     },
     "metadata": {},
     "output_type": "display_data"
    }
   ],
   "source": [
    "agg_df = df.groupby(df.year).mean().reset_index()\n",
    "agg_df.plot(x='year',y='tempo')\n",
    "\n",
    "agg_df.plot(x='year',y='duration')\n",
    "\n",
    "agg_df.plot(x='year',y='loudness')"
   ]
  },
  {
   "cell_type": "code",
   "execution_count": 10,
   "metadata": {},
   "outputs": [
    {
     "data": {
      "text/plain": [
       "array([[<matplotlib.axes._subplots.AxesSubplot object at 0x0000000044AFF860>]], dtype=object)"
      ]
     },
     "execution_count": 10,
     "metadata": {},
     "output_type": "execute_result"
    },
    {
     "data": {
      "image/png": "[encoded data removed]",
      "text/plain": [
       "<matplotlib.figure.Figure at 0x43e370b8>"
      ]
     },
     "metadata": {},
     "output_type": "display_data"
    }
   ],
   "source": [
    "bins = xrange(1920,2020,10)\n",
    "df.hist(column='year',bins = bins)"
   ]
  },
  {
   "cell_type": "code",
   "execution_count": 11,
   "metadata": {
    "collapsed": true
   },
   "outputs": [],
   "source": [
    "#Creating a new feature called isPopular based on if the song hotness is above mean or not\n",
    "song_hotness_mean = df.song_hotttnesss.mean()#0.487166\n",
    "threshold = song_hotness_mean\n",
    "df['isPopular'] = 0\n",
    "df = df.set_value(df[df.song_hotttnesss>threshold].index,'isPopular',1)"
   ]
  },
  {
   "cell_type": "code",
   "execution_count": 12,
   "metadata": {},
   "outputs": [
    {
     "data": {
      "text/html": [
       "<div>\n",
       "<style>\n",
       "    .dataframe thead tr:only-child th {\n",
       "        text-align: right;\n",
       "    }\n",
       "\n",
       "    .dataframe thead th {\n",
       "        text-align: left;\n",
       "    }\n",
       "\n",
       "    .dataframe tbody tr th {\n",
       "        vertical-align: top;\n",
       "    }\n",
       "</style>\n",
       "<table border=\"1\" class=\"dataframe\">\n",
       "  <thead>\n",
       "    <tr style=\"text-align: right;\">\n",
       "      <th></th>\n",
       "      <th>title</th>\n",
       "      <th>artist_name</th>\n",
       "      <th>release</th>\n",
       "      <th>song_hotttnesss</th>\n",
       "      <th>year</th>\n",
       "    </tr>\n",
       "  </thead>\n",
       "  <tbody>\n",
       "    <tr>\n",
       "      <th>69427</th>\n",
       "      <td>If We Ever Meet Again</td>\n",
       "      <td>Timbaland / Katy Perry</td>\n",
       "      <td>If We Ever Meet Again (Featuring Katy Perry)</td>\n",
       "      <td>1.0</td>\n",
       "      <td>2010</td>\n",
       "    </tr>\n",
       "    <tr>\n",
       "      <th>78108</th>\n",
       "      <td>Alice</td>\n",
       "      <td>Avril Lavigne</td>\n",
       "      <td>Almost Alice</td>\n",
       "      <td>1.0</td>\n",
       "      <td>2010</td>\n",
       "    </tr>\n",
       "    <tr>\n",
       "      <th>85836</th>\n",
       "      <td>Cooler Than Me</td>\n",
       "      <td>Mike Posner</td>\n",
       "      <td>Cooler Than Me</td>\n",
       "      <td>1.0</td>\n",
       "      <td>2010</td>\n",
       "    </tr>\n",
       "    <tr>\n",
       "      <th>196742</th>\n",
       "      <td>Somebody To Love</td>\n",
       "      <td>Justin Bieber</td>\n",
       "      <td>My Worlds</td>\n",
       "      <td>1.0</td>\n",
       "      <td>2010</td>\n",
       "    </tr>\n",
       "    <tr>\n",
       "      <th>332746</th>\n",
       "      <td>Holiday</td>\n",
       "      <td>Vampire Weekend</td>\n",
       "      <td>Contra</td>\n",
       "      <td>1.0</td>\n",
       "      <td>2010</td>\n",
       "    </tr>\n",
       "    <tr>\n",
       "      <th>424919</th>\n",
       "      <td>Nothin' On You [feat. Bruno Mars] (Album Version)</td>\n",
       "      <td>B.o.B</td>\n",
       "      <td>B.o.B Presents: The Adventures of Bobby Ray</td>\n",
       "      <td>1.0</td>\n",
       "      <td>2010</td>\n",
       "    </tr>\n",
       "    <tr>\n",
       "      <th>711682</th>\n",
       "      <td>Somebody To Love</td>\n",
       "      <td>Justin Bieber</td>\n",
       "      <td>My World 2.0</td>\n",
       "      <td>1.0</td>\n",
       "      <td>2010</td>\n",
       "    </tr>\n",
       "    <tr>\n",
       "      <th>712993</th>\n",
       "      <td>Odessa</td>\n",
       "      <td>Caribou</td>\n",
       "      <td>Odessa</td>\n",
       "      <td>1.0</td>\n",
       "      <td>2010</td>\n",
       "    </tr>\n",
       "    <tr>\n",
       "      <th>746866</th>\n",
       "      <td>Alice</td>\n",
       "      <td>Avril Lavigne</td>\n",
       "      <td>Alice</td>\n",
       "      <td>1.0</td>\n",
       "      <td>2010</td>\n",
       "    </tr>\n",
       "    <tr>\n",
       "      <th>828866</th>\n",
       "      <td>Tighten Up</td>\n",
       "      <td>The Black Keys</td>\n",
       "      <td>Tighten Up</td>\n",
       "      <td>1.0</td>\n",
       "      <td>2010</td>\n",
       "    </tr>\n",
       "  </tbody>\n",
       "</table>\n",
       "</div>"
      ],
      "text/plain": [
       "                                                    title  \\\n",
       "69427                               If We Ever Meet Again   \n",
       "78108                                               Alice   \n",
       "85836                                      Cooler Than Me   \n",
       "196742                                   Somebody To Love   \n",
       "332746                                            Holiday   \n",
       "424919  Nothin' On You [feat. Bruno Mars] (Album Version)   \n",
       "711682                                   Somebody To Love   \n",
       "712993                                             Odessa   \n",
       "746866                                              Alice   \n",
       "828866                                         Tighten Up   \n",
       "\n",
       "                   artist_name                                       release  \\\n",
       "69427   Timbaland / Katy Perry  If We Ever Meet Again (Featuring Katy Perry)   \n",
       "78108            Avril Lavigne                                  Almost Alice   \n",
       "85836              Mike Posner                                Cooler Than Me   \n",
       "196742           Justin Bieber                                     My Worlds   \n",
       "332746         Vampire Weekend                                        Contra   \n",
       "424919                   B.o.B   B.o.B Presents: The Adventures of Bobby Ray   \n",
       "711682           Justin Bieber                                  My World 2.0   \n",
       "712993                 Caribou                                        Odessa   \n",
       "746866           Avril Lavigne                                         Alice   \n",
       "828866          The Black Keys                                    Tighten Up   \n",
       "\n",
       "        song_hotttnesss  year  \n",
       "69427               1.0  2010  \n",
       "78108               1.0  2010  \n",
       "85836               1.0  2010  \n",
       "196742              1.0  2010  \n",
       "332746              1.0  2010  \n",
       "424919              1.0  2010  \n",
       "711682              1.0  2010  \n",
       "712993              1.0  2010  \n",
       "746866              1.0  2010  \n",
       "828866              1.0  2010  "
      ]
     },
     "execution_count": 12,
     "metadata": {},
     "output_type": "execute_result"
    }
   ],
   "source": [
    "#Most Popular Songs\n",
    "df.sort_values(by=['song_hotttnesss','year'],ascending=False)[['title','artist_name','release','song_hotttnesss','year']].head(10)"
   ]
  },
  {
   "cell_type": "code",
   "execution_count": 13,
   "metadata": {},
   "outputs": [
    {
     "data": {
      "text/plain": [
       "RandomForestRegressor(bootstrap=True, criterion='mse', max_depth=40,\n",
       "           max_features='auto', max_leaf_nodes=None,\n",
       "           min_impurity_decrease=0.0, min_impurity_split=None,\n",
       "           min_samples_leaf=1, min_samples_split=2,\n",
       "           min_weight_fraction_leaf=0.0, n_estimators=10, n_jobs=1,\n",
       "           oob_score=False, random_state=None, verbose=0, warm_start=False)"
      ]
     },
     "execution_count": 13,
     "metadata": {},
     "output_type": "execute_result"
    }
   ],
   "source": [
    "#Feature Importance and Reduction\n",
    "\n",
    "from sklearn.ensemble import RandomForestRegressor\n",
    "X = df.drop(['song_hotttnesss','year','isPopular'],axis=1)\n",
    "X = X.select_dtypes(exclude=[object])\n",
    "Y = df['song_hotttnesss'].values\n",
    "\n",
    "model = RandomForestRegressor(n_estimators=10,max_depth=40)\n",
    "model.fit(X,Y)"
   ]
  },
  {
   "cell_type": "code",
   "execution_count": 14,
   "metadata": {},
   "outputs": [
    {
     "data": {
      "text/plain": [
       "<matplotlib.axes._subplots.AxesSubplot at 0x43d4b400>"
      ]
     },
     "execution_count": 14,
     "metadata": {},
     "output_type": "execute_result"
    },
    {
     "data": {
      "image/png": "[encoded data removed]",
      "text/plain": [
       "<matplotlib.figure.Figure at 0x43d4bdd8>"
      ]
     },
     "metadata": {},
     "output_type": "display_data"
    }
   ],
   "source": [
    "features = X.columns\n",
    "feature_importances = model.feature_importances_\n",
    "\n",
    "features_df = pd.DataFrame({'Features': features, 'Importance Score': feature_importances})\n",
    "features_df.sort_values('Importance Score', inplace=True, ascending=False)\n",
    "\n",
    "features_df.plot(x='Features',y='Importance Score',kind='bar')"
   ]
  },
  {
   "cell_type": "code",
   "execution_count": 15,
   "metadata": {},
   "outputs": [
    {
     "name": "stderr",
     "output_type": "stream",
     "text": [
      "C:\\Users\\Amninder\\Anaconda2\\lib\\site-packages\\sklearn\\cross_validation.py:41: DeprecationWarning: This module was deprecated in version 0.18 in favor of the model_selection module into which all the refactored classes and functions are moved. Also note that the interface of the new CV iterators are different from that of this module. This module will be removed in 0.20.\n",
      "  \"This module will be removed in 0.20.\", DeprecationWarning)\n"
     ]
    },
    {
     "data": {
      "text/plain": [
       "LinearRegression(copy_X=True, fit_intercept=True, n_jobs=1, normalize=False)"
      ]
     },
     "execution_count": 15,
     "metadata": {},
     "output_type": "execute_result"
    }
   ],
   "source": [
    "#Linear Regression\n",
    "from sklearn.linear_model import LinearRegression\n",
    "from sklearn.cross_validation import train_test_split\n",
    "\n",
    "X = df.drop('song_hotttnesss',axis=1)\n",
    "X = X.select_dtypes(exclude=[object])\n",
    "Y = df['song_hotttnesss'].values\n",
    "\n",
    "trainX, testX, trainY, testY = train_test_split(X, Y, train_size=0.70)\n",
    "\n",
    "lm = LinearRegression()\n",
    "\n",
    "lm.fit(trainX,trainY)"
   ]
  },
  {
   "cell_type": "code",
   "execution_count": 16,
   "metadata": {},
   "outputs": [
    {
     "name": "stdout",
     "output_type": "stream",
     "text": [
      "mse_train = 0.007225\n",
      "mse_test = 0.007228\n",
      "r2_train = 0.706650\n",
      "r2_test = 0.704386\n"
     ]
    }
   ],
   "source": [
    "from sklearn import metrics\n",
    "\n",
    "pred_train = lm.predict(trainX)\n",
    "pred_test = lm.predict(testX)\n",
    "\n",
    "mse_train = metrics.mean_squared_error(trainY,pred_train)\n",
    "mse_test = metrics.mean_squared_error(testY,pred_test)\n",
    "\n",
    "r2_train = metrics.r2_score(trainY,pred_train)\n",
    "r2_test = metrics.r2_score(testY,pred_test)\n",
    "\n",
    "print \"mse_train = %f\"%mse_train\n",
    "print \"mse_test = %f\"%mse_test\n",
    "print \"r2_train = %f\"%r2_train\n",
    "print \"r2_test = %f\"%r2_test"
   ]
  },
  {
   "cell_type": "code",
   "execution_count": 17,
   "metadata": {},
   "outputs": [
    {
     "data": {
      "text/plain": [
       "LinearRegression(copy_X=True, fit_intercept=True, n_jobs=1, normalize=False)"
      ]
     },
     "execution_count": 17,
     "metadata": {},
     "output_type": "execute_result"
    }
   ],
   "source": [
    "X = df.drop('song_hotttnesss',axis=1)\n",
    "X = X.select_dtypes(exclude=[object])\n",
    "X_top_5_features = X[list(features_df.head().Features)] \n",
    "Y = df['song_hotttnesss'].values\n",
    "\n",
    "trainX, testX, trainY, testY = train_test_split(X_top_5_features, Y, train_size=0.70)\n",
    "\n",
    "lm = LinearRegression()\n",
    "\n",
    "lm.fit(trainX,trainY)"
   ]
  },
  {
   "cell_type": "code",
   "execution_count": 18,
   "metadata": {},
   "outputs": [
    {
     "name": "stdout",
     "output_type": "stream",
     "text": [
      "mse_train = 0.018117\n",
      "mse_test = 0.018244\n",
      "r2_train = 0.261507\n",
      "r2_test = 0.260736\n"
     ]
    }
   ],
   "source": [
    "pred_train = lm.predict(trainX)\n",
    "pred_test = lm.predict(testX)\n",
    "\n",
    "mse_train = metrics.mean_squared_error(trainY,pred_train)\n",
    "mse_test = metrics.mean_squared_error(testY,pred_test)\n",
    "\n",
    "r2_train = metrics.r2_score(trainY,pred_train)\n",
    "r2_test = metrics.r2_score(testY,pred_test)\n",
    "\n",
    "print \"mse_train = %f\"%mse_train\n",
    "print \"mse_test = %f\"%mse_test\n",
    "print \"r2_train = %f\"%r2_train\n",
    "print \"r2_test = %f\"%r2_test"
   ]
  },
  {
   "cell_type": "code",
   "execution_count": 19,
   "metadata": {},
   "outputs": [
    {
     "data": {
      "text/plain": [
       "0.024109413511750777"
      ]
     },
     "execution_count": 19,
     "metadata": {},
     "output_type": "execute_result"
    }
   ],
   "source": [
    "#K-Neighbors Regressor\n",
    "from sklearn import neighbors\n",
    "X = df.drop('song_hotttnesss',axis=1)\n",
    "X = X.select_dtypes(exclude=[object])\n",
    "X_top_5_features = X[list(features_df.head().Features)] \n",
    "Y = df['song_hotttnesss'].values\n",
    "\n",
    "trainX, testX, trainY, testY = train_test_split(X_top_5_features, Y, train_size=0.70)\n",
    "knn_regressor = neighbors.KNeighborsRegressor(n_neighbors=5, weights='uniform')\n",
    "knn_regressor.fit(trainX,trainY)\n",
    "knn_regressor.predict(testX)\n",
    "knn_regressor.score(testX,testY)"
   ]
  },
  {
   "cell_type": "code",
   "execution_count": 30,
   "metadata": {},
   "outputs": [
    {
     "data": {
      "text/plain": [
       "0.59594079878115136"
      ]
     },
     "execution_count": 30,
     "metadata": {},
     "output_type": "execute_result"
    }
   ],
   "source": [
    "#KNN\n",
    "\n",
    "X = df.drop('song_hotttnesss',axis=1)\n",
    "X = X.select_dtypes(exclude=[object])\n",
    "X_top_5_features = X[list(features_df.head().Features)] \n",
    "Y = df['isPopular'].values\n",
    "\n",
    "trainX, testX, trainY, testY = train_test_split(X_top_5_features, Y, train_size=0.70)\n",
    "\n",
    "knn = neighbors.KNeighborsClassifier(n_neighbors=100, weights='uniform')\n",
    "knn.fit(trainX,trainY)\n",
    "\n",
    "knn.predict(testX)\n",
    "knn_score = knn.score(testX,testY)\n",
    "knn_score"
   ]
  },
  {
   "cell_type": "code",
   "execution_count": 31,
   "metadata": {},
   "outputs": [
    {
     "name": "stdout",
     "output_type": "stream",
     "text": [
      "Accuracy score = 0.695244\n",
      "ROC AUC Score = 0.758019\n",
      "===================================================\n",
      "Confusion Matrix\n",
      "[[33850 12641]\n",
      " [15363 30036]]\n",
      "===================================================\n",
      "             precision    recall  f1-score   support\n",
      "\n",
      "          0       0.69      0.73      0.71     46491\n",
      "          1       0.70      0.66      0.68     45399\n",
      "\n",
      "avg / total       0.70      0.70      0.69     91890\n",
      "\n"
     ]
    }
   ],
   "source": [
    "#Logistic Regression\n",
    "from sklearn.linear_model import LogisticRegression\n",
    "from sklearn.metrics import roc_curve, roc_auc_score\n",
    "\n",
    "lr = LogisticRegression()\n",
    "lr.fit(trainX,trainY)\n",
    "\n",
    "predicted = lr.predict(testX)\n",
    "probs = lr.predict_proba(testX)\n",
    "lr_score = metrics.accuracy_score(testY, predicted)\n",
    "print \"Accuracy score = %f\"%lr_score\n",
    "print \"ROC AUC Score = %f\"%roc_auc_score(testY, probs[:,1])\n",
    "print \"===================================================\"\n",
    "print \"Confusion Matrix\"\n",
    "print metrics.confusion_matrix(testY, predicted)\n",
    "print \"===================================================\"\n",
    "print metrics.classification_report(testY, predicted)"
   ]
  },
  {
   "cell_type": "code",
   "execution_count": 22,
   "metadata": {},
   "outputs": [
    {
     "name": "stdout",
     "output_type": "stream",
     "text": [
      "[ 0.69964087  0.69691479  0.6920666   0.69281248  0.69558759]\n",
      "0.695404467516\n"
     ]
    }
   ],
   "source": [
    "from sklearn.cross_validation import cross_val_score\n",
    "scores = cross_val_score(lr, X_top_5_features, Y, scoring='accuracy', cv=5)\n",
    "print scores\n",
    "print scores.mean()"
   ]
  },
  {
   "cell_type": "code",
   "execution_count": 23,
   "metadata": {},
   "outputs": [
    {
     "name": "stdout",
     "output_type": "stream",
     "text": [
      "[ 0.71550767  0.71745021  0.71340189  0.71780473  0.71498066]\n",
      "0.715829032926\n"
     ]
    }
   ],
   "source": [
    "#Decision Tree\n",
    "from sklearn.tree import DecisionTreeClassifier\n",
    "\n",
    "model_dt = DecisionTreeClassifier()\n",
    "model_dt.fit(X_top_5_features,Y)\n",
    "scores_dt = cross_val_score(model_dt,X_top_5_features,Y,scoring='accuracy',cv=5)\n",
    "print scores_dt\n",
    "print scores_dt.mean()"
   ]
  },
  {
   "cell_type": "code",
   "execution_count": 24,
   "metadata": {},
   "outputs": [
    {
     "name": "stdout",
     "output_type": "stream",
     "text": [
      "[ 0.71234818  0.71626701  0.71366331  0.71632757  0.71356205]\n",
      "0.714433625806\n"
     ]
    }
   ],
   "source": [
    "dt_f1_scores = cross_val_score(model_dt,X_top_5_features,Y,scoring='f1',cv=5)\n",
    "print dt_f1_scores\n",
    "print dt_f1_scores.mean()"
   ]
  },
  {
   "cell_type": "code",
   "execution_count": 25,
   "metadata": {},
   "outputs": [
    {
     "name": "stdout",
     "output_type": "stream",
     "text": [
      "[ 0.71475545  0.7179143   0.71510133  0.71850351  0.71673372]\n",
      "0.716601661261\n"
     ]
    }
   ],
   "source": [
    "dt_roc_scores = cross_val_score(model_dt,X_top_5_features,Y,scoring='roc_auc',cv=5)\n",
    "print dt_roc_scores\n",
    "print dt_roc_scores.mean()"
   ]
  },
  {
   "cell_type": "code",
   "execution_count": 26,
   "metadata": {},
   "outputs": [
    {
     "name": "stdout",
     "output_type": "stream",
     "text": [
      "[ 0.74866144  0.75176298  0.74577212  0.74948987  0.74779216]\n",
      "0.748695714274\n"
     ]
    }
   ],
   "source": [
    "#Random Forest\n",
    "from sklearn.ensemble import RandomForestClassifier\n",
    "\n",
    "model_rf = RandomForestClassifier(n_estimators=15)\n",
    "model_rf.fit(X_top_5_features,Y)\n",
    "\n",
    "scores_rf = cross_val_score(model_rf,X_top_5_features,Y,scoring='accuracy',cv=5)\n",
    "print scores_rf\n",
    "print scores_rf.mean()"
   ]
  },
  {
   "cell_type": "code",
   "execution_count": 27,
   "metadata": {},
   "outputs": [
    {
     "name": "stdout",
     "output_type": "stream",
     "text": [
      "[ 0.74929614  0.74860572  0.74527067  0.742264    0.74747145]\n",
      "0.746581596429\n"
     ]
    }
   ],
   "source": [
    "rf_f1_scores = cross_val_score(model_rf,X_top_5_features,Y,scoring='f1',cv=5)\n",
    "print rf_f1_scores\n",
    "print rf_f1_scores.mean()"
   ]
  },
  {
   "cell_type": "code",
   "execution_count": 28,
   "metadata": {},
   "outputs": [
    {
     "name": "stdout",
     "output_type": "stream",
     "text": [
      "0.821924709361\n"
     ]
    }
   ],
   "source": [
    "rf_roc_scores = cross_val_score(model_rf,X_top_5_features,Y,scoring='roc_auc',cv=5)\n",
    "print rf_roc_scores.mean()"
   ]
  },
  {
   "cell_type": "code",
   "execution_count": 33,
   "metadata": {},
   "outputs": [
    {
     "data": {
      "text/plain": [
       "<matplotlib.axes._subplots.AxesSubplot at 0x422926a0>"
      ]
     },
     "execution_count": 33,
     "metadata": {},
     "output_type": "execute_result"
    },
    {
     "data": {
      "image/png": "[encoded data removed]",
      "text/plain": [
       "<matplotlib.figure.Figure at 0x421fd828>"
      ]
     },
     "metadata": {},
     "output_type": "display_data"
    }
   ],
   "source": [
    "d = {'Model':['KNN','Logistic Regression','Decision Tree','Random Forest'],'Accuracy':[knn_score,scores.mean(),scores_dt.mean(),scores_rf.mean()]}\n",
    "\n",
    "agg_scores = pd.DataFrame(data = d)\n",
    "agg_scores.plot(x='Model',y='Accuracy',kind='bar')"
   ]
  },
  {
   "cell_type": "code",
   "execution_count": 40,
   "metadata": {},
   "outputs": [
    {
     "name": "stdout",
     "output_type": "stream",
     "text": [
      "[[114629  39604]\n",
      " [ 37628 114437]]\n"
     ]
    }
   ],
   "source": [
    "from sklearn.model_selection import cross_val_predict\n",
    "y_pred = cross_val_predict(model_rf,X_top_5_features,Y,cv=5)\n",
    "\n",
    "print metrics.confusion_matrix(Y,y_pred)\n"
   ]
  },
  {
   "cell_type": "code",
   "execution_count": 39,
   "metadata": {},
   "outputs": [
    {
     "name": "stdout",
     "output_type": "stream",
     "text": [
      "             precision    recall  f1-score   support\n",
      "\n",
      "          0       0.75      0.74      0.75    154233\n",
      "          1       0.74      0.75      0.75    152065\n",
      "\n",
      "avg / total       0.75      0.75      0.75    306298\n",
      "\n"
     ]
    }
   ],
   "source": [
    "print metrics.classification_report(Y, y_pred)"
   ]
  },
  {
   "cell_type": "code",
   "execution_count": 37,
   "metadata": {},
   "outputs": [
    {
     "data": {
      "image/png": "[encoded data removed]",
      "text/plain": [
       "<matplotlib.figure.Figure at 0x42262208>"
      ]
     },
     "metadata": {},
     "output_type": "display_data"
    }
   ],
   "source": [
    "from sklearn.metrics import roc_curve,auc\n",
    "fpr, tpr, thresholds = roc_curve(Y,y_pred)\n",
    "roc_auc = auc(fpr, tpr)\n",
    "\n",
    "plt.title('Receiver Operating Characteristic')\n",
    "plt.plot(fpr, tpr, 'b', label = 'AUC = %0.2f' % roc_auc)\n",
    "plt.legend(loc = 'lower right')\n",
    "plt.plot([0, 1], [0, 1],'r--')\n",
    "plt.xlim([0, 1])\n",
    "plt.ylim([0, 1])\n",
    "plt.ylabel('True Positive Rate')\n",
    "plt.xlabel('False Positive Rate')\n",
    "plt.show()"
   ]
  },
  {
   "cell_type": "code",
   "execution_count": null,
   "metadata": {
    "collapsed": true
   },
   "outputs": [],
   "source": []
  }
 ],
 "metadata": {
  "kernelspec": {
   "display_name": "Python 2",
   "language": "python",
   "name": "python2"
  },
  "language_info": {
   "codemirror_mode": {
    "name": "ipython",
    "version": 2
   },
   "file_extension": ".py",
   "mimetype": "text/x-python",
   "name": "python",
   "nbconvert_exporter": "python",
   "pygments_lexer": "ipython2",
   "version": "2.7.13"
  }
 },
 "nbformat": 4,
 "nbformat_minor": 2
}
